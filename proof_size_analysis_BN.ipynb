{
 "cells": [
  {
   "cell_type": "code",
   "execution_count": 396,
   "metadata": {},
   "outputs": [],
   "source": [
    "import math"
   ]
  },
  {
   "cell_type": "markdown",
   "metadata": {},
   "source": [
    "First, some parameters.  We will play with them below; these are defaults."
   ]
  },
  {
   "cell_type": "code",
   "execution_count": 397,
   "metadata": {},
   "outputs": [],
   "source": [
    "SOUND_PARAM_TOTAL = 80  # chance of not catching cheating prover < 1/2^80\n",
    "SOUND_PARAM = SOUND_PARAM_TOTAL + 2    # individually, chance of not catching cheating prover for each of (1) MT\n",
    "                                       # shuffling, (2) AM shuffling, and (3) IKOS portion is < 1/2^82.\n",
    "                                       # Union bound of these three phases is below total soundness error bound.\n",
    "\n",
    "HASH_BITS = 256 # output size of SHA-256 hash\n",
    "COMM_RAND = 128 # size of input randomness to SHA-256 commitments = C = H(R||M)\n",
    "\n",
    "# Num parties, and num revealed\n",
    "NUM_PARTIES = 2\n",
    "PARTIES_REVEALED = NUM_PARTIES-1 # TODO: For now, assuming open P-1.  For a protocol robust against r<(P-1) parties, this changes\n",
    "\n",
    "# Optionally, randomness may be generated from a seed.\n",
    "RAND_FROM_SEED = True # if True, Prover used one seed per party to generate randomness\n",
    "SEED_SIZE = 128\n",
    "\n",
    "# Field size\n",
    "FIELD_BITS = 128\n",
    "FIELD_SIZE = 2 ** FIELD_BITS\n",
    "\n",
    "# Shortcuts\n",
    "sigma = SOUND_PARAM\n",
    "H = HASH_BITS\n",
    "C = COMM_RAND\n",
    "P = NUM_PARTIES\n",
    "F = FIELD_BITS\n",
    "PR = PARTIES_REVEALED\n",
    "PNR = P - PR # parties not revealed"
   ]
  },
  {
   "cell_type": "markdown",
   "metadata": {},
   "source": [
    "Compute the number of IKOS repetitions required to achieve the desired soundness"
   ]
  },
  {
   "cell_type": "code",
   "execution_count": 398,
   "metadata": {},
   "outputs": [
    {
     "name": "stdout",
     "output_type": "stream",
     "text": [
      "82\n"
     ]
    }
   ],
   "source": [
    "def get_num_ikos_reps(sigma, P, PNR):\n",
    "    return math.ceil( sigma / math.log2(P/PNR) )\n",
    "num_ikos_reps = get_num_ikos_reps(sigma, P, PNR)\n",
    "R = num_ikos_reps # for 2 parties, should equal sigma\n",
    "print(R)"
   ]
  },
  {
   "cell_type": "markdown",
   "metadata": {},
   "source": [
    "Determine the size required for decommitting to each test.  Use this to determine the size required for decommitting to each ASWI gate.\n",
    "\n",
    "Multiplication Triple Test (MT): 80 B\n",
    "\n",
    "Additive-Multiple Tuple Test (AM): 160 B (includes the MT called within)\n",
    "\n",
    "ASWI gate: 288 B (includes both tests called within)"
   ]
  },
  {
   "cell_type": "code",
   "execution_count": 399,
   "metadata": {},
   "outputs": [
    {
     "name": "stdout",
     "output_type": "stream",
     "text": [
      "MT test bytes (no comm rand):  32.0\n",
      "AM test bytes (no comm rand):  80.0\n"
     ]
    }
   ],
   "source": [
    "# Each MT: 3 shares (input) per revealed party + 2 openings (+1CZ)\n",
    "def get_per_MT_test_decom_size_norand(RAND_FROM_SEED, F, PR, PNR):\n",
    "    return ((2*PNR))*F if RAND_FROM_SEED else (((3*PR) + (2*PNR)) * F)\n",
    "per_MT_test_decom_size_norand = get_per_MT_test_decom_size_norand(RAND_FROM_SEED, F, PR, PNR)\n",
    "per_MT_test_ZC = 1                     # 1 additional thing that should be 0\n",
    "print(\"MT test bytes (no comm rand): \", per_MT_test_decom_size_norand/8)\n",
    "\n",
    "# Each AM (includes the additionally-induced MT)\n",
    "#per_AM_test_decom_size_incl = (2*F*PR) + (4 * (P-1) + 1) * AMS * F\n",
    "# Each AM: 2 shares per opened party + 1 elem + 2 openings + 1 MT test\n",
    "def get_per_AM_test_decom_size_incl_norand(RAND_FROM_SEED, F, PR, PNR):\n",
    "    return ((PR + (2*PNR))*F + get_per_MT_test_decom_size_norand(RAND_FROM_SEED, F, PR, PNR)) if RAND_FROM_SEED \\\n",
    "                                                  else (((2*PR) + PR + (2*PNR))*F + \\\n",
    "                                                        get_per_MT_test_decom_size_norand(RAND_FROM_SEED, F, PR, PNR))\n",
    "per_AM_test_decom_size_incl_norand = get_per_AM_test_decom_size_incl_norand(RAND_FROM_SEED, F, PR, PNR)\n",
    "per_AM_test_ZC_incl = per_MT_test_ZC\n",
    "print(\"AM test bytes (no comm rand): \", per_AM_test_decom_size_incl_norand/8)"
   ]
  },
  {
   "cell_type": "code",
   "execution_count": 400,
   "metadata": {},
   "outputs": [
    {
     "name": "stdout",
     "output_type": "stream",
     "text": [
      "144.0\n"
     ]
    }
   ],
   "source": [
    "# Main view additions for 1 ASWI:\n",
    "# - 1 elem\n",
    "# Test view additions for 1 ASWI:\n",
    "# - 2 elem\n",
    "# - 1 CZ\n",
    "# - 1 AM test\n",
    "#     - 1 AM tuple\n",
    "#     - 1 elem\n",
    "#     - 2 openings\n",
    "#     - 1 MT test\n",
    "#       - 1 MT tuple\n",
    "#       - 2 openings\n",
    "#       - 1 CZ\n",
    "# - 1 MT test\n",
    "#   - 1 MT tuple\n",
    "#   - 2 openings\n",
    "#   - 1 CZ\n",
    "# Randomness for 1 ASWI:\n",
    "# - 1x2 AM tuple\n",
    "# - 2x3 MT tuple\n",
    "# - 3x. zero-check\n",
    "\n",
    "# We have already paid for opening the PR shares of the tuples themselves,\n",
    "# but we need to know how much we must do additionally to validate those tuples\n",
    "per_switch_MT = 2 # 1 used in AM-test\n",
    "per_switch_AM = 1\n",
    "\n",
    "def get_per_switch_main_decom_size(F):\n",
    "    return F\n",
    "per_switch_main_decom_size = get_per_switch_main_decom_size(F)\n",
    "def get_per_switch_test_decom_size_incl(RAND_FROM_SEED, F, PR, PNR):\n",
    "    return 2*PR*F + get_per_AM_test_decom_size_incl_norand(RAND_FROM_SEED, F, PR, PNR) + \\\n",
    "             get_per_MT_test_decom_size_norand(RAND_FROM_SEED, F, PR, PNR)\n",
    "per_switch_test_decom_size_incl = get_per_switch_test_decom_size_incl(RAND_FROM_SEED, F, PR, PNR)\n",
    "print(per_switch_test_decom_size_incl / 8)\n",
    "per_switch_ZC_incl = 1 + per_AM_test_ZC_incl + per_MT_test_ZC\n"
   ]
  },
  {
   "cell_type": "code",
   "execution_count": 401,
   "metadata": {},
   "outputs": [],
   "source": [
    "# Pick some number of switches to test on; this will be varied later.\n",
    "NUM_ASWI = 5\n",
    "S = NUM_ASWI\n",
    "\n",
    "# Choose number of variables in the polynomial\n",
    "VARS = 1"
   ]
  },
  {
   "cell_type": "markdown",
   "metadata": {},
   "source": [
    "Now we need to figure out how big the bucketing phase needs to be to achieve the desired soundness error, separately, for each of the AM tuples and the MT tuples.\n",
    "\n",
    "We first do the AM tuples.  Unfortunately, for **each AM tuple test**, we need to consume a (good!) MT tuple.  So the number of AM tuple tests get added right on to the number of **desired** MT tuples."
   ]
  },
  {
   "cell_type": "code",
   "execution_count": 402,
   "metadata": {},
   "outputs": [
    {
     "name": "stdout",
     "output_type": "stream",
     "text": [
      "N_AM: 410\n",
      "B_AM: 2\n",
      "N_MT_excl: 820\n",
      "N_MT_incl: 1230\n",
      "B_MT_incl: 2\n"
     ]
    }
   ],
   "source": [
    "# B for \"bucket size\"\n",
    "# For a single test, soundness error = (1/F)^B.\n",
    "# Let N = number of tuples needed for ALL repetitions\n",
    "# Need: Chance of succeeding at *any* set of N sets of *all* (B-1) tests to be < (1/2)^sigma\n",
    "def get_N_AM(R, NUM_ASWI): \n",
    "    return NUM_ASWI * per_switch_AM * R\n",
    "N_AM = get_N_AM(R, NUM_ASWI)\n",
    "def get_BUCKET_SIZE_AM(sigma, R, NUM_ASWI, FIELD_SIZE):\n",
    "    return math.ceil(1 + ( (sigma + math.log2(get_N_AM(R, NUM_ASWI))) / math.log2(FIELD_SIZE) ))\n",
    "B_AM = get_BUCKET_SIZE_AM(sigma, R, NUM_ASWI, FIELD_SIZE)\n",
    "\n",
    "# N_MT_incl includes both the MT needed for verifying the circuit/tests itself, plus the MT needed\n",
    "# to run the bucketing verification for N_AM AM-tuples.\n",
    "# N_MT_excl includes the MT needed for verifying the circuit/tests only, not including the MT needed\n",
    "# to run the bucketing verification for N_AM AM-tuples.\n",
    "def get_N_MT_excl(R, NUM_ASWI):\n",
    "    return NUM_ASWI * per_switch_MT * R\n",
    "N_MT_excl = get_N_MT_excl(R, NUM_ASWI)\n",
    "def get_N_MT_incl(sigma, R, NUM_ASWI, FIELD_SIZE):\n",
    "    return get_N_MT_excl(R, NUM_ASWI) + (get_BUCKET_SIZE_AM(sigma, R, NUM_ASWI, FIELD_SIZE) - 1)*get_N_AM(R, NUM_ASWI)\n",
    "N_MT_incl = get_N_MT_incl(sigma, R, NUM_ASWI, FIELD_SIZE)\n",
    "def get_BUCKET_SIZE_MT_incl(sigma, R, NUM_ASWI, FIELD_SIZE):\n",
    "    return math.ceil(1 + ( (sigma + math.log2(get_N_MT_incl(sigma, R, NUM_ASWI, FIELD_SIZE))) / math.log2(FIELD_SIZE) ))\n",
    "B_MT_incl = get_BUCKET_SIZE_MT_incl(sigma, R, NUM_ASWI, FIELD_SIZE)\n",
    "\n",
    "print(\"N_AM:\",N_AM)\n",
    "print(\"B_AM:\",B_AM)\n",
    "print(\"N_MT_excl:\",N_MT_excl)\n",
    "print(\"N_MT_incl:\",N_MT_incl)\n",
    "print(\"B_MT_incl:\",B_MT_incl)"
   ]
  },
  {
   "cell_type": "markdown",
   "metadata": {},
   "source": [
    "As part of the decommitment, we also need to write the commitment randomness.  For BN, we can make one commitment per party per repetition.\n",
    "\n",
    "If RAND_FROM_SEED is used, we must also account for the cost of releasing the seed (since we did not include this in per_MT_test_decom_size_norand and per_AM_test_decom_size_norand)"
   ]
  },
  {
   "cell_type": "code",
   "execution_count": 403,
   "metadata": {},
   "outputs": [
    {
     "name": "stdout",
     "output_type": "stream",
     "text": [
      "74784.0\n"
     ]
    }
   ],
   "source": [
    "def get_decom_rand(COMM_RAND, R, PR):\n",
    "    return COMM_RAND * R * PR\n",
    "decom_rand = get_decom_rand(COMM_RAND, R, PR)\n",
    "\n",
    "def get_seed_cost(RAND_FROM_SEED, SEED_SIZE, R, PR):\n",
    "    return SEED_SIZE * R * PR if RAND_FROM_SEED else 0\n",
    "seed_cost = get_seed_cost(RAND_FROM_SEED, SEED_SIZE, R, PR)\n",
    "\n",
    "def get_rand_verif_decom_size(COMM_RAND, RAND_FROM_SEED, SEED_SIZE, F, sigma, P, PR, NUM_ASWI):\n",
    "    pnr = P - PR\n",
    "    r = get_num_ikos_reps(sigma, P, pnr)\n",
    "    n_mt_incl = get_N_MT_incl(sigma, r, NUM_ASWI, 2**F)\n",
    "    b_mt_incl = get_BUCKET_SIZE_MT_incl(sigma, r, NUM_ASWI, 2**F)\n",
    "    n_am = get_N_AM(r, NUM_ASWI)\n",
    "    b_am = get_BUCKET_SIZE_AM(sigma, R, NUM_ASWI, 2**F)\n",
    "    # MT: cost of tests * number tests done to verify\n",
    "    contrib_from_MT_norand = get_per_MT_test_decom_size_norand(RAND_FROM_SEED, F, PR, pnr) * n_mt_incl * (b_mt_incl-1)\n",
    "    # AM: cost of tests * number tests done to verify\n",
    "    contrib_from_AM_norand = get_per_AM_test_decom_size_incl_norand(RAND_FROM_SEED, F, PR, pnr) * n_am * (b_am-1)\n",
    "    # Contribution from decommitment randomness + seeds\n",
    "    contrib_from_decom_rand = get_decom_rand(COMM_RAND, r, PR)\n",
    "    contrib_from_seed_cost = get_seed_cost(RAND_FROM_SEED, SEED_SIZE, r, PR)\n",
    "    #print(contrib_from_MT_norand)\n",
    "    #print(contrib_from_AM_norand)\n",
    "    #print(contrib_from_decom_rand)\n",
    "    #print(contrib_from_seed_cost)     \n",
    "    #print(contrib_from_MT_norand + contrib_from_AM_norand + contrib_from_decom_rand + contrib_from_seed_cost)\n",
    "    return contrib_from_MT_norand + contrib_from_AM_norand + contrib_from_decom_rand + contrib_from_seed_cost\n",
    "rand_verif_decom_size = get_rand_verif_decom_size(COMM_RAND, RAND_FROM_SEED, SEED_SIZE, F, sigma, P, PR, NUM_ASWI)\n",
    "\n",
    "print(rand_verif_decom_size/ 8)\n"
   ]
  },
  {
   "cell_type": "markdown",
   "metadata": {},
   "source": [
    "So now we can finally compute how large the proof is."
   ]
  },
  {
   "cell_type": "code",
   "execution_count": 406,
   "metadata": {},
   "outputs": [
    {
     "name": "stdout",
     "output_type": "stream",
     "text": [
      "-----------\n",
      "R1: 5248.0\n",
      "R2: 32.0\n",
      "R3: 5248.0\n",
      "R4: 32.0\n",
      "R5: 89232.0\n",
      "Total (1+3+5):  99728.0\n"
     ]
    }
   ],
   "source": [
    "# Round 1: {{C(view) || SEED }_p}_r\n",
    "def get_round1(HASH_BITS, sigma, P, PR):\n",
    "    return HASH_BITS * P * get_num_ikos_reps(sigma, P, P-PR)\n",
    "round1 = get_round1(HASH_BITS, sigma, P, PR)\n",
    "\n",
    "round2 = HASH_BITS # Round 2: Epsilons for adjusting randomness\n",
    "# Round 3: Send {{C(testviews)}_p}_r\n",
    "def get_round3(HASH_BITS, sigma, P, PR):\n",
    "    return HASH_BITS * P * get_num_ikos_reps(sigma, P, P-PR)\n",
    "round3 = get_round3(HASH_BITS, sigma, P, PR)\n",
    "round4 = HASH_BITS # Round 4: Party choices, and nonzero LC coefficients\n",
    "# Round 5: Send {{D(view)}_j}_r, {{D(testview)}_j}_r, checkzero\n",
    "def get_round5(COMM_RAND, RAND_FROM_SEED, SEED_SIZE, F, sigma, P, PR, NUM_ASWI):\n",
    "    return get_num_ikos_reps(sigma, P, P-PR) * PR * (get_per_switch_main_decom_size(F) + \n",
    "                                                    get_per_switch_test_decom_size_incl(RAND_FROM_SEED, F, PR, P-PR)) + \\\n",
    "                                            get_rand_verif_decom_size(COMM_RAND, RAND_FROM_SEED, SEED_SIZE, F, sigma, P, PR, NUM_ASWI) + \\\n",
    "                                            (VARS * PR * get_num_ikos_reps(sigma, P, P-PR) * F) + F\n",
    "round5 = get_round5(COMM_RAND, RAND_FROM_SEED, SEED_SIZE, F, sigma, P, PR, NUM_ASWI)\n",
    "#round5 = R * PR * (per_switch_main_decom_size + per_switch_test_decom_size_incl) + \\\n",
    "#        rand_verif_decom_size + (VARS * PR * R * F) + F\n",
    "\n",
    "#print((get_per_switch_main_decom_size(F) + get_per_switch_test_decom_size_incl(RAND_FROM_SEED, F, PR, P-PR) +\n",
    "#                                                    get_rand_verif_decom_size(COMM_RAND, RAND_FROM_SEED, SEED_SIZE, F, sigma, P, PR, NUM_ASWI)))\n",
    "#print()\n",
    "\n",
    "def get_proof_size(HASH_BITS, COMM_RAND, RAND_FROM_SEED, SEED_SIZE, F, sigma, P, PR, NUM_ASWI):\n",
    "    return get_round1(HASH_BITS, sigma, P, PR) + get_round3(HASH_BITS, sigma, P, PR) + \\\n",
    "           get_round5(COMM_RAND, RAND_FROM_SEED, SEED_SIZE, F, sigma, P, PR, NUM_ASWI)\n",
    "proof_size = get_proof_size(HASH_BITS, COMM_RAND, RAND_FROM_SEED, SEED_SIZE, F, sigma, P, PR, NUM_ASWI)\n",
    "\n",
    "print(\"-----------\")\n",
    "print(\"R1:\", round1 / 8)\n",
    "print(\"R2:\", round2 / 8)\n",
    "print(\"R3:\",round3 / 8)\n",
    "print(\"R4:\",round4 / 8)\n",
    "print(\"R5:\",round5 / 8)\n",
    "\n",
    "print(\"Total (1+3+5): \", proof_size/8)\n"
   ]
  },
  {
   "cell_type": "code",
   "execution_count": 426,
   "metadata": {},
   "outputs": [],
   "source": [
    "%matplotlib inline\n",
    "\n",
    "import matplotlib\n",
    "import numpy as np\n",
    "import matplotlib.pyplot as plt\n",
    "\n",
    "hbs = [256]\n",
    "crs = [128]\n",
    "sss = [80, 128]\n",
    "rfs = [True, False]\n",
    "fs = range(2,256,1)\n",
    "soundnesses = [40, 60, 80, 128] #remember this is 2 + the total soundness error\n",
    "sigmas = [s + 2 for s in soundnesses]\n",
    "ps = range(2,100,1)\n",
    "prs = [1, 2, 4, 9, 14, 19, 99]\n",
    "naswis = range(1,50,1)\n",
    "\n"
   ]
  },
  {
   "cell_type": "markdown",
   "metadata": {},
   "source": [
    "In the following, we show proof size versus field size, for seed randomness on and off.\n",
    "\n",
    "The \"jumps\" below represent going from a higher bucket size B to a lower bucket size for randomness verification.  The best field size for 80 bits of security is 93, which just barely gets us to B=2, but has the smallest element description.\n",
    "\n",
    "Using a per-party-per-iteration seed in place of fullly random elements saves us quite a lot of space; the size of the seed is relatively unimportnat."
   ]
  },
  {
   "cell_type": "code",
   "execution_count": 432,
   "metadata": {},
   "outputs": [
    {
     "name": "stdout",
     "output_type": "stream",
     "text": [
      "Best 80b seed proof size (KB):  (62.5174560546875, 47)\n",
      "Best 128b seed proof size (KB):  (63.1268310546875, 47)\n",
      "Best non-seed (full) proof size (KB):  (163.22216796875, 92)\n"
     ]
    },
    {
     "data": {
      "image/png": "[encoded data removed]",
      "text/plain": [
       "<Figure size 432x288 with 1 Axes>"
      ]
     },
     "metadata": {
      "needs_background": "light"
     },
     "output_type": "display_data"
    }
   ],
   "source": [
    "# PLOT PROOF SIZE VERSUS FIELD SIZE\n",
    "B = 8\n",
    "KiB = 1024*B\n",
    "P=3\n",
    "PR=2\n",
    "x = np.array([fs])\n",
    "yseedsmall = np.array([get_proof_size(HASH_BITS, COMM_RAND, True, sss[0], \n",
    "                                      f, sigma, P, PR, NUM_ASWI) / KiB for f in fs])\n",
    "yseedbig = np.array([get_proof_size(HASH_BITS, COMM_RAND, True, sss[1], \n",
    "                                      f, sigma, P, PR, NUM_ASWI) / KiB for f in fs])\n",
    "ynoseed = np.array([get_proof_size(HASH_BITS, COMM_RAND, False, 0, \n",
    "                                      f, sigma, P, PR, NUM_ASWI) / KiB for f in fs])\n",
    "\n",
    "print(\"Best 80b seed proof size (KB): \",min([(get_proof_size(HASH_BITS, COMM_RAND, True, sss[0], \n",
    "                                      f, sigma, P, PR, NUM_ASWI) / KiB, f) for f in fs]))\n",
    "print(\"Best 128b seed proof size (KB): \",min([(get_proof_size(HASH_BITS, COMM_RAND, True, sss[1], \n",
    "                                      f, sigma, P, PR, NUM_ASWI) / KiB, f) for f in fs]))\n",
    "print(\"Best non-seed (full) proof size (KB): \", min([(get_proof_size(HASH_BITS, COMM_RAND, False, 0, \n",
    "                                      f, sigma, P, PR, NUM_ASWI) / KiB, f) for f in fs]))\n",
    "fig = plt.figure()\n",
    "ax = fig.add_subplot(1, 1, 1)\n",
    "ax.scatter(x, yseedsmall, label=\"small seed rand\")\n",
    "ax.scatter(x, yseedbig, label=\"large seed rand\")\n",
    "ax.scatter(x, ynoseed, label=\"full rand\")\n",
    "plt.title(\"Proof size (KB) versus Field Size (b) (80b security), 3 party\")\n",
    "ax.legend()\n",
    "plt.show()"
   ]
  },
  {
   "cell_type": "code",
   "execution_count": 433,
   "metadata": {},
   "outputs": [
    {
     "name": "stdout",
     "output_type": "stream",
     "text": [
      "Best 80b seed proof size (KB):  (73.7833251953125, 93)\n",
      "Best 128b seed proof size (KB):  (74.2637939453125, 93)\n",
      "Best non-seed (full) proof size (KB):  (145.5933837890625, 93)\n"
     ]
    },
    {
     "data": {
      "image/png": "[encoded data removed]",
      "text/plain": [
       "<Figure size 432x288 with 1 Axes>"
      ]
     },
     "metadata": {
      "needs_background": "light"
     },
     "output_type": "display_data"
    }
   ],
   "source": [
    "# PLOT PROOF SIZE VERSUS FIELD SIZE\n",
    "B = 8\n",
    "KiB = 1024*B\n",
    "P=2\n",
    "PR=1\n",
    "x = np.array([fs])\n",
    "yseedsmall = np.array([get_proof_size(HASH_BITS, COMM_RAND, True, sss[0], \n",
    "                                      f, sigma, P, PR, NUM_ASWI) / KiB for f in fs])\n",
    "yseedbig = np.array([get_proof_size(HASH_BITS, COMM_RAND, True, sss[1], \n",
    "                                      f, sigma, P, PR, NUM_ASWI) / KiB for f in fs])\n",
    "ynoseed = np.array([get_proof_size(HASH_BITS, COMM_RAND, False, 0, \n",
    "                                      f, sigma, P, PR, NUM_ASWI) / KiB for f in fs])\n",
    "\n",
    "print(\"Best 80b seed proof size (KB): \",min([(get_proof_size(HASH_BITS, COMM_RAND, True, sss[0], \n",
    "                                      f, sigma, P, PR, NUM_ASWI) / KiB, f) for f in fs]))\n",
    "print(\"Best 128b seed proof size (KB): \",min([(get_proof_size(HASH_BITS, COMM_RAND, True, sss[1], \n",
    "                                      f, sigma, P, PR, NUM_ASWI) / KiB, f) for f in fs]))\n",
    "print(\"Best non-seed (full) proof size (KB): \", min([(get_proof_size(HASH_BITS, COMM_RAND, False, 0, \n",
    "                                      f, sigma, P, PR, NUM_ASWI) / KiB, f) for f in fs]))\n",
    "fig = plt.figure()\n",
    "ax = fig.add_subplot(1, 1, 1)\n",
    "ax.scatter(x, yseedsmall, label=\"small seed rand\")\n",
    "ax.scatter(x, yseedbig, label=\"large seed rand\")\n",
    "ax.scatter(x, ynoseed, label=\"full rand\")\n",
    "plt.title(\"Proof size (KB) versus Field Size (b) (80b security), 2 party\")\n",
    "ax.legend()\n",
    "plt.show()"
   ]
  },
  {
   "cell_type": "markdown",
   "metadata": {},
   "source": [
    "Unsurprisingly, better soundness means bigger proof size."
   ]
  },
  {
   "cell_type": "code",
   "execution_count": 435,
   "metadata": {},
   "outputs": [
    {
     "name": "stdout",
     "output_type": "stream",
     "text": [
      "Best proof size ((KB), F, sigma):  (21.5482177734375, 51, 40)\n",
      "Best proof size ((KB), F, sigma):  (40.9462890625, 72, 60)\n",
      "Best proof size ((KB), F, sigma):  (63.1268310546875, 47, 80)\n",
      "Best proof size ((KB), F, sigma):  (141.6112060546875, 71, 128)\n"
     ]
    },
    {
     "data": {
      "image/png": "[encoded data removed]",
      "text/plain": [
       "<Figure size 432x288 with 1 Axes>"
      ]
     },
     "metadata": {
      "needs_background": "light"
     },
     "output_type": "display_data"
    }
   ],
   "source": [
    "# PLOT PROOF SIZE VERSUS FIELD SIZE FOR DIFFERENT SIGMAS\n",
    "B = 8\n",
    "KiB = 1024*B\n",
    "P=3\n",
    "PR=2\n",
    "x = np.array(fs)\n",
    "ys = []\n",
    "for s in sigmas:\n",
    "    ys.append(np.array([get_proof_size(HASH_BITS, COMM_RAND, True, SEED_SIZE, \n",
    "                                          f, s, P, PR, NUM_ASWI) / KiB for f in fs]))\n",
    "    print(\"Best proof size ((KB), F, sigma): \",min([(get_proof_size(HASH_BITS, COMM_RAND, True, SEED_SIZE, \n",
    "                                          f, s, P, PR, NUM_ASWI) / KiB, f, s-2) for f in fs]))\n",
    "    \n",
    "fig = plt.figure()\n",
    "ax = fig.add_subplot(1, 1, 1)\n",
    "for i in range(len(sigmas)):\n",
    "    ax.scatter(x, ys[i], label=\"sigma={}\".format(sigmas[i]-2))\n",
    "plt.title(\"Proof size (KB) versus Field Size (b)\")\n",
    "ax.legend()\n",
    "plt.show()  "
   ]
  },
  {
   "cell_type": "code",
   "execution_count": 436,
   "metadata": {},
   "outputs": [
    {
     "name": "stdout",
     "output_type": "stream",
     "text": [
      "Best proof size ((KB), F, sigma):  (30.543212890625, 82, 40)\n",
      "Best proof size ((KB), F, sigma):  (45.244384765625, 82, 60)\n",
      "Best proof size ((KB), F, sigma):  (64.40185546875, 92, 80)\n",
      "Best proof size ((KB), F, sigma):  (146.4830322265625, 141, 128)\n"
     ]
    },
    {
     "data": {
      "image/png": "[encoded data removed]",
      "text/plain": [
       "<Figure size 432x288 with 1 Axes>"
      ]
     },
     "metadata": {
      "needs_background": "light"
     },
     "output_type": "display_data"
    }
   ],
   "source": [
    "# Zoomed in version\n",
    "B = 8\n",
    "KiB = 1024*B\n",
    "fs = fs[40:]\n",
    "x = np.array(fs)\n",
    "ys=[]\n",
    "for s in sigmas:\n",
    "    ys.append(np.array([get_proof_size(HASH_BITS, COMM_RAND, True, SEED_SIZE, \n",
    "                                          f, s, P, PR, NUM_ASWI) / KiB for f in fs]))\n",
    "    print(\"Best proof size ((KB), F, sigma): \",min([(get_proof_size(HASH_BITS, COMM_RAND, True, SEED_SIZE, \n",
    "                                          f, s, P, PR, NUM_ASWI) / KiB, f, s-2) for f in fs]))\n",
    "    \n",
    "fig = plt.figure()\n",
    "ax = fig.add_subplot(1, 1, 1)\n",
    "for i in range(len(sigmas)):\n",
    "    ax.scatter(x, ys[i], label=\"sigma={}\".format(sigmas[i]-2))\n",
    "plt.title(\"Proof size (KB) versus Field Size (b)\")\n",
    "ax.legend()\n",
    "plt.show()  "
   ]
  },
  {
   "cell_type": "markdown",
   "metadata": {},
   "source": [
    "The best number of parties (if the verifier reveals P-1 views) is 3; it barely beats 2.\n",
    "\n",
    "In retrospect, this makes sense; you need 52 reps for 3 parties to get to sigma=82 (80 soundness in the overall protocol), and 82 reps for 2 parties.  And 3x52 is slightly less than 2x82."
   ]
  },
  {
   "cell_type": "code",
   "execution_count": 444,
   "metadata": {},
   "outputs": [
    {
     "name": "stdout",
     "output_type": "stream",
     "text": [
      "Best proof size ((KB), parties, reveal p-1):  (64.40185546875, 3)\n",
      "p= 2 , total proof size:  101.22998046875\n",
      "    p= 2 , IKOS reps: 82\n",
      "    p= 2 , round 1: 5248.0\n",
      "    p= 2 , round 3: 5248.0\n",
      "    p= 2 , round 5: 93163.5\n",
      "p= 3 , total proof size:  64.40185546875\n",
      "    p= 3 , IKOS reps: 52\n",
      "    p= 3 , round 1: 4992.0\n",
      "    p= 3 , round 3: 4992.0\n",
      "    p= 3 , round 5: 55963.5\n",
      "p= 4 , total proof size:  67.51708984375\n",
      "    p= 4 , IKOS reps: 41\n",
      "    p= 4 , round 1: 5248.0\n",
      "    p= 4 , round 3: 5248.0\n",
      "    p= 4 , round 5: 58641.5\n",
      "p= 4 ,reveal 2, total proof size:  219.02490234375\n"
     ]
    },
    {
     "data": {
      "image/png": "[encoded data removed]",
      "text/plain": [
       "<Figure size 432x288 with 1 Axes>"
      ]
     },
     "metadata": {
      "needs_background": "light"
     },
     "output_type": "display_data"
    }
   ],
   "source": [
    "# PROOF SIZE VERSUS PARTIES\n",
    "B = 8\n",
    "KiB = 1024*B\n",
    "F = 92\n",
    "sigma = 80+2\n",
    "x = np.array(ps)\n",
    "y = np.array([get_proof_size(HASH_BITS, COMM_RAND, True, SEED_SIZE, \n",
    "                                          F, sigma, p, p-1, NUM_ASWI) / KiB for p in ps])\n",
    "print(\"Best proof size ((KB), parties, reveal p-1): \",min([(get_proof_size(HASH_BITS, COMM_RAND, True, SEED_SIZE, \n",
    "                                          F, sigma, p, p-1, NUM_ASWI) / KiB, p) for p in ps]))\n",
    "\n",
    "\n",
    "for p in [2,3,4]:\n",
    "    print(\"p=\",p,\", total proof size: \", get_proof_size(HASH_BITS, COMM_RAND, True, SEED_SIZE, \n",
    "                                          F, sigma, p, p-1, NUM_ASWI) / KiB) \n",
    "    print(\"    p=\",p,\", IKOS reps:\",get_num_ikos_reps(sigma,p,1))\n",
    "    print(\"    p=\",p,\", round 1:\",get_round1(HASH_BITS, sigma, p, p-1)/B)\n",
    "    print(\"    p=\",p,\", round 3:\",get_round3(HASH_BITS, sigma, p, p-1)/B)\n",
    "    print(\"    p=\",p,\", round 5:\",get_round5(COMM_RAND, RAND_FROM_SEED, SEED_SIZE, F, sigma, p,p-1, NUM_ASWI)/B)\n",
    "print(\"p=\",p,\",reveal 2, total proof size: \", get_proof_size(HASH_BITS, COMM_RAND, True, SEED_SIZE, \n",
    "                                          F, sigma, p, 2, NUM_ASWI) / KiB)    \n",
    "\n",
    "fig = plt.figure()\n",
    "ax = fig.add_subplot(1, 1, 1)\n",
    "ax.scatter(x, y)\n",
    "plt.title(\"Proof size (KB) versus Parties (reveal p-1, F=92, soundness 80))\")\n",
    "#ax.legend()\n",
    "plt.show()"
   ]
  },
  {
   "cell_type": "markdown",
   "metadata": {},
   "source": [
    "Finally, proof size versus number of switches.  There seem to be a few cutoff points, again likely related to bucketing.  For our case, F=94 leads to 9 being a good number of switches."
   ]
  },
  {
   "cell_type": "code",
   "execution_count": 456,
   "metadata": {},
   "outputs": [
    {
     "name": "stdout",
     "output_type": "stream",
     "text": [
      "f= 92 | switches= 1 | pf size (KB)= 36.37060546875\n",
      "f= 92 | switches= 2 | pf size (KB)= 43.37841796875\n",
      "f= 92 | switches= 3 | pf size (KB)= 50.38623046875\n",
      "f= 92 | switches= 4 | pf size (KB)= 57.39404296875\n",
      "f= 92 | switches= 5 | pf size (KB)= 64.40185546875\n",
      "f= 93 | switches= 1 | pf size (KB)= 36.6246337890625\n",
      "f= 93 | switches= 2 | pf size (KB)= 43.7086181640625\n",
      "f= 93 | switches= 3 | pf size (KB)= 50.7926025390625\n",
      "f= 93 | switches= 4 | pf size (KB)= 57.8765869140625\n",
      "f= 93 | switches= 5 | pf size (KB)= 64.9605712890625\n",
      "f= 94 | switches= 1 | pf size (KB)= 36.878662109375\n",
      "f= 94 | switches= 2 | pf size (KB)= 44.038818359375\n",
      "f= 94 | switches= 3 | pf size (KB)= 51.198974609375\n",
      "f= 94 | switches= 4 | pf size (KB)= 58.359130859375\n",
      "f= 94 | switches= 5 | pf size (KB)= 65.519287109375\n",
      "f= 95 | switches= 1 | pf size (KB)= 37.1326904296875\n",
      "f= 95 | switches= 2 | pf size (KB)= 44.3690185546875\n",
      "f= 95 | switches= 3 | pf size (KB)= 51.6053466796875\n",
      "f= 95 | switches= 4 | pf size (KB)= 58.8416748046875\n",
      "f= 95 | switches= 5 | pf size (KB)= 66.0780029296875\n",
      "f= 96 | switches= 1 | pf size (KB)= 37.38671875\n",
      "f= 96 | switches= 2 | pf size (KB)= 44.69921875\n",
      "f= 96 | switches= 3 | pf size (KB)= 52.01171875\n",
      "f= 96 | switches= 4 | pf size (KB)= 59.32421875\n",
      "f= 96 | switches= 5 | pf size (KB)= 66.63671875\n",
      "f= 128 | switches= 1 | pf size (KB)= 45.515625\n",
      "f= 128 | switches= 2 | pf size (KB)= 55.265625\n",
      "f= 128 | switches= 3 | pf size (KB)= 65.015625\n",
      "f= 128 | switches= 4 | pf size (KB)= 74.765625\n",
      "f= 128 | switches= 5 | pf size (KB)= 84.515625\n"
     ]
    },
    {
     "data": {
      "image/png": "[encoded data removed]",
      "text/plain": [
       "<Figure size 432x288 with 1 Axes>"
      ]
     },
     "metadata": {
      "needs_background": "light"
     },
     "output_type": "display_data"
    }
   ],
   "source": [
    "# PLOT PROOF SIZE VERSUS SWITCHES\n",
    "B = 8\n",
    "KiB = 1024*B\n",
    "sigma = 80+2\n",
    "P = 3\n",
    "PR = 2\n",
    "x = np.array(naswis)\n",
    "bestF = 0\n",
    "bestFSize = 10000000000\n",
    "fs = [92, 93, 94, 95, 96, 128]\n",
    "BEST_F = 94\n",
    "ys = []\n",
    "for f in fs:\n",
    "    ys.append(np.array([get_proof_size(HASH_BITS, COMM_RAND, True, SEED_SIZE, \n",
    "                                          f, sigma, P, PR, n) / KiB for n in naswis]))\n",
    "    for i in range(5):\n",
    "        print(\"f=\",f,\"| switches=\",x[i], \"| pf size (KB)=\",ys[-1][i])\n",
    "\n",
    "\n",
    "    \n",
    "fig = plt.figure()\n",
    "ax = fig.add_subplot(1, 1, 1)\n",
    "for i in range(len(fs)):\n",
    "    ax.scatter(x, ys[i], label=\"F={}\".format(fs[i]))\n",
    "plt.title(\"Proof size (KB) versus #Switches\")\n",
    "ax.legend()\n",
    "plt.show()"
   ]
  },
  {
   "cell_type": "code",
   "execution_count": null,
   "metadata": {},
   "outputs": [],
   "source": []
  },
  {
   "cell_type": "code",
   "execution_count": null,
   "metadata": {},
   "outputs": [],
   "source": []
  },
  {
   "cell_type": "code",
   "execution_count": null,
   "metadata": {},
   "outputs": [],
   "source": []
  }
 ],
 "metadata": {
  "kernelspec": {
   "display_name": "Python 3",
   "language": "python",
   "name": "python3"
  },
  "language_info": {
   "codemirror_mode": {
    "name": "ipython",
    "version": 3
   },
   "file_extension": ".py",
   "mimetype": "text/x-python",
   "name": "python",
   "nbconvert_exporter": "python",
   "pygments_lexer": "ipython3",
   "version": "3.7.5"
  }
 },
 "nbformat": 4,
 "nbformat_minor": 4
}
