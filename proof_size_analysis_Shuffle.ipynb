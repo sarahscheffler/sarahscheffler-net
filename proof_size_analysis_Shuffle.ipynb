{
 "cells": [
  {
   "cell_type": "code",
   "execution_count": 53,
   "metadata": {},
   "outputs": [],
   "source": [
    "import math"
   ]
  },
  {
   "cell_type": "markdown",
   "metadata": {},
   "source": [
    "First, some parameters.  We will play with them below; these are defaults."
   ]
  },
  {
   "cell_type": "code",
   "execution_count": 54,
   "metadata": {},
   "outputs": [],
   "source": [
    "SOUND_PARAM_TOTAL = 80  # chance of not catching cheating prover < 1/2^80\n",
    "SOUND_PARAM = SOUND_PARAM_TOTAL + 2    # individually, chance of not catching cheating prover for each of (1) MT\n",
    "                                       # shuffling, (2) AM shuffling, and (3) IKOS portion is < 1/2^82.\n",
    "                                       # Union bound of these three phases is below total soundness error bound.\n",
    "\n",
    "HASH_BITS = 256 # output size of SHA-256 hash\n",
    "COMM_RAND = 128 # size of input randomness to SHA-256 commitments = C = H(R||M)\n",
    "SEED_SIZE = 128\n",
    "\n",
    "# Num parties, and num revealed\n",
    "NUM_PARTIES = 2\n",
    "PARTIES_REVEALED = NUM_PARTIES-1 # TODO: For now, assuming open P-1.  For a protocol robust against r<(P-1) parties, this changes\n",
    "\n",
    "# Field size\n",
    "FIELD_BITS = 128\n",
    "FIELD_SIZE = 2 ** FIELD_BITS\n",
    "\n",
    "# Shortcuts\n",
    "sigma = SOUND_PARAM\n",
    "H = HASH_BITS\n",
    "C = COMM_RAND\n",
    "P = NUM_PARTIES\n",
    "F = FIELD_BITS\n",
    "PR = PARTIES_REVEALED\n",
    "PNR = P - PR # parties not revealed"
   ]
  },
  {
   "cell_type": "markdown",
   "metadata": {},
   "source": [
    "Compute the number of IKOS repetitions required to achieve the desired soundness"
   ]
  },
  {
   "cell_type": "code",
   "execution_count": 55,
   "metadata": {},
   "outputs": [
    {
     "name": "stdout",
     "output_type": "stream",
     "text": [
      "82\n"
     ]
    }
   ],
   "source": [
    "def get_num_ikos_reps(sigma, P, PNR):\n",
    "    return math.ceil( sigma / math.log2(P/PNR) )\n",
    "num_ikos_reps = get_num_ikos_reps(sigma, P, PNR)\n",
    "R = num_ikos_reps # for 2 parties, should equal sigma\n",
    "print(R)"
   ]
  },
  {
   "cell_type": "markdown",
   "metadata": {},
   "source": [
    "Determine the size required for decommitting to each test.  Use this to determine the size required for decommitting to each ASWI gate.\n",
    "\n",
    "Multiplication Triple Test (MT): 80 B\n",
    "\n",
    "Additive-Multiple Tuple Test (AM): 160 B (includes the MT called within)\n",
    "\n",
    "ASWI gate: 288 B (includes both tests called within)"
   ]
  },
  {
   "cell_type": "code",
   "execution_count": 56,
   "metadata": {},
   "outputs": [
    {
     "name": "stdout",
     "output_type": "stream",
     "text": [
      "MT test bytes (no comm rand):  48.0\n",
      "AM test bytes (no comm rand):  112.0\n"
     ]
    }
   ],
   "source": [
    "# Each MT: 2 openings (+1CZ)\n",
    "# LATER: Reveal triple seed + merkle path (need to know how many)\n",
    "def get_per_MT_test_decom_size_norand(F, PR, PNR):\n",
    "    return SEED_SIZE + ((2*PNR))*F\n",
    "per_MT_test_decom_size_norand = get_per_MT_test_decom_size_norand(F, PR, PNR)\n",
    "per_MT_test_ZC = 1                     # 1 additional thing that should be 0\n",
    "print(\"MT test bytes (no comm rand): \", per_MT_test_decom_size_norand/8)\n",
    "\n",
    "# Each AM (includes the additionally-induced MT)\n",
    "#per_AM_test_decom_size_incl = (2*F*PR) + (4 * (P-1) + 1) * AMS * F\n",
    "# Each AM: 2 shares per opened party + 1 elem + 2 openings + 1 MT test\n",
    "def get_per_AM_test_decom_size_incl_norand(F, PR, PNR):\n",
    "    return SEED_SIZE + (PR + (2*PNR))*F + get_per_MT_test_decom_size_norand(F, PR, PNR)\n",
    "per_AM_test_decom_size_incl_norand = get_per_AM_test_decom_size_incl_norand(F, PR, PNR)\n",
    "per_AM_test_ZC_incl = per_MT_test_ZC\n",
    "print(\"AM test bytes (no comm rand): \", per_AM_test_decom_size_incl_norand/8)"
   ]
  },
  {
   "cell_type": "code",
   "execution_count": 57,
   "metadata": {},
   "outputs": [
    {
     "name": "stdout",
     "output_type": "stream",
     "text": [
      "192.0\n"
     ]
    }
   ],
   "source": [
    "# Main view additions for 1 ASWI:\n",
    "# - 1 elem\n",
    "# Test view additions for 1 ASWI:\n",
    "# - 2 elem\n",
    "# - 1 CZ\n",
    "# - 1 AM test\n",
    "#     - 1 AM tuple\n",
    "#     - 1 elem\n",
    "#     - 2 openings\n",
    "#     - 1 MT test\n",
    "#       - 1 MT tuple\n",
    "#       - 2 openings\n",
    "#       - 1 CZ\n",
    "# - 1 MT test\n",
    "#   - 1 MT tuple\n",
    "#   - 2 openings\n",
    "#   - 1 CZ\n",
    "# Randomness for 1 ASWI:\n",
    "# - 1x2 AM tuple\n",
    "# - 2x3 MT tuple\n",
    "# - 3x. zero-check\n",
    "\n",
    "# We have already paid for opening the PR shares of the tuples themselves,\n",
    "# but we need to know how much we must do additionally to validate those tuples\n",
    "per_switch_MT = 2 # 1 used in AM-test\n",
    "per_switch_AM = 1\n",
    "\n",
    "def get_per_switch_main_decom_size(F):\n",
    "    return F\n",
    "per_switch_main_decom_size = get_per_switch_main_decom_size(F)\n",
    "def get_per_switch_test_decom_size_incl(F, PR, PNR):\n",
    "    return 2*PR*F + get_per_AM_test_decom_size_incl_norand(F, PR, PNR) + \\\n",
    "             get_per_MT_test_decom_size_norand(F, PR, PNR)\n",
    "per_switch_test_decom_size_incl = get_per_switch_test_decom_size_incl(F, PR, PNR)\n",
    "print(per_switch_test_decom_size_incl / 8)\n",
    "per_switch_ZC_incl = 1 + per_AM_test_ZC_incl + per_MT_test_ZC\n"
   ]
  },
  {
   "cell_type": "code",
   "execution_count": 58,
   "metadata": {},
   "outputs": [],
   "source": [
    "# Pick some number of switches to test on; this will be varied later.\n",
    "NUM_ASWI = 5\n",
    "S = NUM_ASWI\n",
    "\n",
    "# Choose number of variables in the polynomial\n",
    "VARS = 1"
   ]
  },
  {
   "cell_type": "markdown",
   "metadata": {},
   "source": [
    "Now we need to figure out how big the bucketing phase needs to be to achieve the desired soundness error, separately, for each of the AM tuples and the MT tuples.\n",
    "\n",
    "We first do the AM tuples.  Unfortunately, for **each AM tuple test**, we need to consume a (good!) MT tuple.  So the number of AM tuple tests get added right on to the number of **desired** MT tuples."
   ]
  },
  {
   "cell_type": "code",
   "execution_count": 59,
   "metadata": {},
   "outputs": [
    {
     "name": "stdout",
     "output_type": "stream",
     "text": [
      "N_AM: 410\n",
      "B_AM: 10\n",
      "N_MT_excl: 820\n",
      "N_MT_incl: 4510\n",
      "B_MT_incl: 7\n"
     ]
    }
   ],
   "source": [
    "# B for \"bucket size\"\n",
    "# Let N = number of tuples needed for ALL repetitions\n",
    "# Want to set B such that (1/N)^B < (1/2)^sigma\n",
    "def get_N_AM(R, NUM_ASWI): \n",
    "    return NUM_ASWI * per_switch_AM * R\n",
    "N_AM = get_N_AM(R, NUM_ASWI)\n",
    "def get_BUCKET_SIZE_AM(sigma, R, NUM_ASWI):\n",
    "    return math.ceil( sigma / math.log2(get_N_AM(R, NUM_ASWI)) )\n",
    "B_AM = get_BUCKET_SIZE_AM(sigma, R, NUM_ASWI)\n",
    "\n",
    "# N_MT_incl includes both the MT needed for verifying the circuit/tests itself, plus the MT needed\n",
    "# to run the bucketing verification for N_AM AM-tuples.\n",
    "# N_MT_excl includes the MT needed for verifying the circuit/tests only, not including the MT needed\n",
    "# to run the bucketing verification for N_AM AM-tuples.\n",
    "def get_N_MT_excl(R, NUM_ASWI):\n",
    "    return NUM_ASWI * per_switch_MT * R\n",
    "N_MT_excl = get_N_MT_excl(R, NUM_ASWI)\n",
    "def get_N_MT_incl(sigma, R, NUM_ASWI):\n",
    "    return get_N_MT_excl(R, NUM_ASWI) + (get_BUCKET_SIZE_AM(sigma, R, NUM_ASWI) - 1)*get_N_AM(R, NUM_ASWI)\n",
    "N_MT_incl = get_N_MT_incl(sigma, R, NUM_ASWI)\n",
    "def get_BUCKET_SIZE_MT_incl(sigma, R, NUM_ASWI):\n",
    "    return math.ceil( sigma / math.log2(get_N_MT_incl(sigma, R, NUM_ASWI)) )\n",
    "B_MT_incl = get_BUCKET_SIZE_MT_incl(sigma, R, NUM_ASWI)\n",
    "\n",
    "print(\"N_AM:\",N_AM)\n",
    "print(\"B_AM:\",B_AM)\n",
    "print(\"N_MT_excl:\",N_MT_excl)\n",
    "print(\"N_MT_incl:\",N_MT_incl)\n",
    "print(\"B_MT_incl:\",B_MT_incl)"
   ]
  },
  {
   "cell_type": "markdown",
   "metadata": {},
   "source": [
    "As part of the decommitment, we also need to write the commitment randomness.  For BN, we can make one commitment per party per repetition.\n",
    "\n",
    "If RAND_FROM_SEED is used, we must also account for the cost of releasing the seed (since we did not include this in per_MT_test_decom_size_norand and per_AM_test_decom_size_norand)"
   ]
  },
  {
   "cell_type": "code",
   "execution_count": 60,
   "metadata": {},
   "outputs": [
    {
     "name": "stdout",
     "output_type": "stream",
     "text": [
      "1714432.0\n",
      "-------\n",
      "Bytes spent on MT (no rand): 1298880.0\n",
      "Bytes spent on AM (no rand): 413280.0\n",
      "Bytes spent on MT rand: 512.0\n",
      "Bytes spent on AM rand: 448.0\n",
      "Bytes spent on other decommitments 1312.0\n",
      "RVDS: 1714432.0\n"
     ]
    }
   ],
   "source": [
    "def get_decom_rand(COMM_RAND, R, PR):\n",
    "    return COMM_RAND * R * PR\n",
    "decom_rand = get_decom_rand(COMM_RAND, R, PR)\n",
    "\n",
    "# Merkle path over all N*B+C(B-1) plus the seed for the tuple itself\n",
    "C = 1\n",
    "def get_AM_decom_rand(sigma, R, NUM_ASWI):\n",
    "    merkle_elems = get_N_AM(R, NUM_ASWI) * get_BUCKET_SIZE_AM(sigma, R, NUM_ASWI) + \\\n",
    "                   C*(get_BUCKET_SIZE_AM(sigma, R, NUM_ASWI)-1)\n",
    "    return HASH_BITS * math.ceil(math.log2(merkle_elems)) + SEED_SIZE + COMM_RAND\n",
    "\n",
    "def get_MT_decom_rand(sigma, R, NUM_ASWI):\n",
    "    merkle_elems = get_N_MT_incl(sigma, R, NUM_ASWI) * get_BUCKET_SIZE_MT_incl(sigma, R, NUM_ASWI) + \\\n",
    "                   C*(get_BUCKET_SIZE_MT_incl(sigma, R, NUM_ASWI)-1)\n",
    "    return HASH_BITS * math.ceil(math.log2(merkle_elems)) + SEED_SIZE + COMM_RAND\n",
    "\n",
    "# Total decommitment cost of all randomness\n",
    "def get_rand_verif_decom_size(COMM_RAND, SEED_SIZE, F, sigma, P, PR, NUM_ASWI):\n",
    "    pnr = P - PR\n",
    "    r = get_num_ikos_reps(sigma, P, pnr)\n",
    "    n_mt_incl = get_N_MT_incl(sigma, R, NUM_ASWI)\n",
    "    b_mt_incl = get_BUCKET_SIZE_MT_incl(sigma, R, NUM_ASWI)\n",
    "    n_am = get_N_AM(R, NUM_ASWI)\n",
    "    b_am = get_BUCKET_SIZE_AM(sigma, R, NUM_ASWI)\n",
    "    # MT: cost of tests * number tests done to verify + cost of decom rand\n",
    "    contrib_from_MT_norand = get_per_MT_test_decom_size_norand(F, PR, pnr) * n_mt_incl* (b_mt_incl-1)\n",
    "    contrib_from_MT_rand = get_MT_decom_rand(sigma, R, NUM_ASWI)\n",
    "    # AM: cost of tests * number tests done to verify + cost of decom rand\n",
    "    contrib_from_AM_norand = get_per_AM_test_decom_size_incl_norand(F, PR, pnr) * n_am * (b_am-1)\n",
    "    contrib_from_AM_rand = get_AM_decom_rand(sigma, R, NUM_ASWI)\n",
    "    return contrib_from_MT_norand + contrib_from_MT_rand + contrib_from_AM_norand + contrib_from_AM_rand + \\\n",
    "           get_decom_rand(COMM_RAND, R, PR)\n",
    "rand_verif_decom_size = get_rand_verif_decom_size(COMM_RAND, SEED_SIZE, F, sigma, P, PR, NUM_ASWI)\n",
    "\n",
    "print(rand_verif_decom_size/ 8)\n",
    "print(\"-------\")\n",
    "print(\"Bytes spent on MT (no rand):\",(get_per_MT_test_decom_size_norand(F, PR, P-PR) * get_N_MT_incl(sigma, R, NUM_ASWI)*\n",
    "                                      (get_BUCKET_SIZE_MT_incl(sigma, R, NUM_ASWI)-1))/8)\n",
    "print(\"Bytes spent on AM (no rand):\",(get_per_AM_test_decom_size_incl_norand(F, PR, P-PR) * get_N_AM(R, NUM_ASWI) *\n",
    "                                      (get_BUCKET_SIZE_AM(sigma, R, NUM_ASWI)-1))/8)\n",
    "print(\"Bytes spent on MT rand:\", get_MT_decom_rand(sigma, R, NUM_ASWI)/8)\n",
    "print(\"Bytes spent on AM rand:\",get_AM_decom_rand(sigma, R, NUM_ASWI)/8)\n",
    "print(\"Bytes spent on other decommitments\",get_decom_rand(COMM_RAND, R, PR)/8)\n",
    "print(\"RVDS:\",rand_verif_decom_size/8)"
   ]
  },
  {
   "cell_type": "markdown",
   "metadata": {},
   "source": [
    "So now we can finally compute how large the proof is."
   ]
  },
  {
   "cell_type": "code",
   "execution_count": 61,
   "metadata": {},
   "outputs": [
    {
     "name": "stdout",
     "output_type": "stream",
     "text": [
      "-----------\n",
      "R1: 5248.0\n",
      "R2: 32.0\n",
      "R3: 5248.0\n",
      "R4: 32.0\n",
      "R5: 1732816.0\n",
      "Total (1+3+5):  1743312.0\n"
     ]
    }
   ],
   "source": [
    "# Round 1: {{C(view) || SEED }_p}_r\n",
    "def get_round1(HASH_BITS, sigma, P, PR):\n",
    "    return HASH_BITS * P * get_num_ikos_reps(sigma, P, P-PR)\n",
    "round1 = get_round1(HASH_BITS, sigma, P, PR)\n",
    "\n",
    "round2 = HASH_BITS # Round 2: Epsilons for adjusting randomness\n",
    "# Round 3: Send {{C(testviews)}_p}_r\n",
    "def get_round3(HASH_BITS, sigma, P, PR):\n",
    "    return HASH_BITS * P * get_num_ikos_reps(sigma, P, P-PR)\n",
    "round3 = get_round3(HASH_BITS, sigma, P, PR)\n",
    "round4 = HASH_BITS # Round 4: Party choices, and nonzero LC coefficients\n",
    "# Round 5: Send {{D(view)}_j}_r, {{D(testview)}_j}_r, checkzero\n",
    "def get_round5(COMM_RAND, SEED_SIZE, F, sigma, P, PR, NUM_ASWI):\n",
    "    return get_num_ikos_reps(sigma, P, P-PR) * PR * (get_per_switch_main_decom_size(F) + \n",
    "                                                    get_per_switch_test_decom_size_incl(F, PR, P-PR)) + \\\n",
    "                                            get_rand_verif_decom_size(COMM_RAND, SEED_SIZE, F, sigma, P, PR, NUM_ASWI) + \\\n",
    "                                            (VARS * PR * get_num_ikos_reps(sigma, P, P-PR) * F) + F\n",
    "                                                     \n",
    "round5 = get_round5(COMM_RAND, SEED_SIZE, F, sigma, P, PR, NUM_ASWI)\n",
    "#round5 = R * PR * (per_switch_main_decom_size + per_switch_test_decom_size_incl) + \\\n",
    "#        rand_verif_decom_size + (VARS * PR * R * F) + F\n",
    "\n",
    "#print((get_per_switch_main_decom_size(F) + get_per_switch_test_decom_size_incl(RAND_FROM_SEED, F, PR, P-PR) +\n",
    "#                                                    get_rand_verif_decom_size(COMM_RAND, RAND_FROM_SEED, SEED_SIZE, F, sigma, P, PR, NUM_ASWI)))\n",
    "#print()\n",
    "\n",
    "def get_proof_size(HASH_BITS, COMM_RAND, SEED_SIZE, F, sigma, P, PR, NUM_ASWI):\n",
    "    return get_round1(HASH_BITS, sigma, P, PR) + get_round3(HASH_BITS, sigma, P, PR) + \\\n",
    "           get_round5(COMM_RAND, SEED_SIZE, F, sigma, P, PR, NUM_ASWI)\n",
    "proof_size = get_proof_size(HASH_BITS, COMM_RAND, SEED_SIZE, F, sigma, P, PR, NUM_ASWI)\n",
    "\n",
    "print(\"-----------\")\n",
    "print(\"R1:\", round1 / 8)\n",
    "print(\"R2:\", round2 / 8)\n",
    "print(\"R3:\",round3 / 8)\n",
    "print(\"R4:\",round4 / 8)\n",
    "print(\"R5:\",round5 / 8)\n",
    "\n",
    "print(\"Total (1+3+5): \", proof_size/8)\n"
   ]
  },
  {
   "cell_type": "code",
   "execution_count": 62,
   "metadata": {},
   "outputs": [],
   "source": [
    "%matplotlib inline\n",
    "\n",
    "import matplotlib\n",
    "import numpy as np\n",
    "import matplotlib.pyplot as plt\n",
    "\n",
    "hbs = [256]\n",
    "crs = [128]\n",
    "sss = [80, 128]\n",
    "rfs = [True, False]\n",
    "fs = range(2,256,1)\n",
    "soundnesses = [40, 60, 80, 128] #remember this is 2 + the total soundness error\n",
    "sigmas = [s + 2 for s in soundnesses]\n",
    "ps = range(2,100,1)\n",
    "prs = [1, 2, 4, 9, 14, 19, 99]\n",
    "naswis = range(1,100,1)\n",
    "\n"
   ]
  },
  {
   "cell_type": "markdown",
   "metadata": {},
   "source": [
    "In the following, we show proof size versus field size, for both the 3-party and 2-party versions.\n",
    "\n",
    "No \"jumps\" in this version, unlike BN.  (Makes sense since field size no longer influences soundness.)"
   ]
  },
  {
   "cell_type": "code",
   "execution_count": 69,
   "metadata": {},
   "outputs": [
    {
     "name": "stdout",
     "output_type": "stream",
     "text": [
      "Best 80b seed proof size (KB):  (954.701416015625, 42)\n",
      "Best 128b seed proof size (KB):  (954.701416015625, 42)\n"
     ]
    },
    {
     "data": {
      "image/png": "[encoded data removed]",
      "text/plain": [
       "<Figure size 432x288 with 1 Axes>"
      ]
     },
     "metadata": {
      "needs_background": "light"
     },
     "output_type": "display_data"
    }
   ],
   "source": [
    "# PLOT PROOF SIZE VERSUS FIELD SIZE\n",
    "B = 8\n",
    "KiB = 1024*B\n",
    "P = 3\n",
    "PR = 2\n",
    "x = np.array([fs])\n",
    "yseedsmall = np.array([get_proof_size(HASH_BITS, COMM_RAND, sss[0], \n",
    "                                      f, sigma, P, PR, NUM_ASWI) / KiB for f in fs])\n",
    "yseedbig = np.array([get_proof_size(HASH_BITS, COMM_RAND, sss[1], \n",
    "                                      f, sigma, P, PR, NUM_ASWI) / KiB for f in fs])\n",
    "\n",
    "print(\"Best 80b seed proof size (KB): \",min([(get_proof_size(HASH_BITS, COMM_RAND, sss[0], \n",
    "                                      f, sigma, P, PR, NUM_ASWI) / KiB, f) for f in fs]))\n",
    "print(\"Best 128b seed proof size (KB): \",min([(get_proof_size(HASH_BITS, COMM_RAND, sss[1], \n",
    "                                      f, sigma, P, PR, NUM_ASWI) / KiB, f) for f in fs]))\n",
    "fig = plt.figure()\n",
    "ax = fig.add_subplot(1, 1, 1)\n",
    "ax.scatter(x, yseedsmall, label=\"small seed rand\")\n",
    "ax.scatter(x, yseedbig, label=\"large seed rand\")\n",
    "plt.title(\"Proof size (KB) versus Field Size (b) (80b security), 3 party version\")\n",
    "ax.legend()\n",
    "plt.show()"
   ]
  },
  {
   "cell_type": "code",
   "execution_count": 71,
   "metadata": {},
   "outputs": [
    {
     "name": "stdout",
     "output_type": "stream",
     "text": [
      "Best 80b seed proof size (KB):  (931.130126953125, 42)\n",
      "Best 128b seed proof size (KB):  (931.130126953125, 42)\n"
     ]
    },
    {
     "data": {
      "image/png": "[encoded data removed]",
      "text/plain": [
       "<Figure size 432x288 with 1 Axes>"
      ]
     },
     "metadata": {
      "needs_background": "light"
     },
     "output_type": "display_data"
    }
   ],
   "source": [
    "# PLOT PROOF SIZE VERSUS FIELD SIZE (2 PARTY VERSION)\n",
    "B = 8\n",
    "KiB = 1024*B\n",
    "P = 2\n",
    "PR = 1\n",
    "x = np.array([fs])\n",
    "yseedsmall = np.array([get_proof_size(HASH_BITS, COMM_RAND, sss[0], \n",
    "                                      f, sigma, P, PR, NUM_ASWI) / KiB for f in fs])\n",
    "yseedbig = np.array([get_proof_size(HASH_BITS, COMM_RAND, sss[1], \n",
    "                                      f, sigma, P, PR, NUM_ASWI) / KiB for f in fs])\n",
    "\n",
    "print(\"Best 80b seed proof size (KB): \",min([(get_proof_size(HASH_BITS, COMM_RAND, sss[0], \n",
    "                                      f, sigma, P, PR, NUM_ASWI) / KiB, f) for f in fs]))\n",
    "print(\"Best 128b seed proof size (KB): \",min([(get_proof_size(HASH_BITS, COMM_RAND, sss[1], \n",
    "                                      f, sigma, P, PR, NUM_ASWI) / KiB, f) for f in fs]))\n",
    "fig = plt.figure()\n",
    "ax = fig.add_subplot(1, 1, 1)\n",
    "ax.scatter(x, yseedsmall, label=\"small seed rand\")\n",
    "ax.scatter(x, yseedbig, label=\"large seed rand\")\n",
    "plt.title(\"Proof size (KB) versus Field Size (b) (80b security), 2 party version\")\n",
    "ax.legend()\n",
    "plt.show()"
   ]
  },
  {
   "cell_type": "markdown",
   "metadata": {},
   "source": [
    "Unsurprisingly, better soundness means bigger proof size."
   ]
  },
  {
   "cell_type": "code",
   "execution_count": 72,
   "metadata": {},
   "outputs": [
    {
     "name": "stdout",
     "output_type": "stream",
     "text": [
      "Best proof size ((KB), F, sigma):  (296.026123046875, 42, 40)\n",
      "Best proof size ((KB), F, sigma):  (657.070556640625, 42, 60)\n",
      "Best proof size ((KB), F, sigma):  (931.130126953125, 42, 80)\n",
      "Best proof size ((KB), F, sigma):  (2056.136474609375, 42, 128)\n"
     ]
    },
    {
     "data": {
      "image/png": "[encoded data removed]",
      "text/plain": [
       "<Figure size 432x288 with 1 Axes>"
      ]
     },
     "metadata": {
      "needs_background": "light"
     },
     "output_type": "display_data"
    }
   ],
   "source": [
    "# PLOT PROOF SIZE VERSUS FIELD SIZE FOR DIFFERENT SIGMAS\n",
    "B = 8\n",
    "KiB = 1024*B\n",
    "P = 2\n",
    "PR = 1\n",
    "x = np.array(fs)\n",
    "ys = []\n",
    "for s in sigmas:\n",
    "    ys.append(np.array([get_proof_size(HASH_BITS, COMM_RAND, SEED_SIZE, \n",
    "                                          f, s, P, PR, NUM_ASWI) / KiB for f in fs]))\n",
    "    print(\"Best proof size ((KB), F, sigma): \",min([(get_proof_size(HASH_BITS, COMM_RAND, SEED_SIZE, \n",
    "                                          f, s, P, PR, NUM_ASWI) / KiB, f, s-2) for f in fs]))\n",
    "    \n",
    "fig = plt.figure()\n",
    "ax = fig.add_subplot(1, 1, 1)\n",
    "for i in range(len(sigmas)):\n",
    "    ax.scatter(x, ys[i], label=\"sigma={}\".format(sigmas[i]-2))\n",
    "plt.title(\"Proof size (KB) versus Field Size (b)\")\n",
    "ax.legend()\n",
    "plt.show()  "
   ]
  },
  {
   "cell_type": "markdown",
   "metadata": {},
   "source": [
    "The best number of parties (if the verifier reveals P-1 views) is 2 now!"
   ]
  },
  {
   "cell_type": "code",
   "execution_count": 75,
   "metadata": {},
   "outputs": [
    {
     "name": "stdout",
     "output_type": "stream",
     "text": [
      "Best proof size ((KB), parties, reveal p-1):  (1388.5426025390625, 2)\n",
      "p= 2 , total proof size:  1388.5426025390625\n",
      "    p= 2 , IKOS reps: 82\n",
      "    p= 2 , round 1: 5248.0\n",
      "    p= 2 , round 3: 5248.0\n",
      "    p= 2 , round 5: 1411371.625\n",
      "p= 3 , total proof size:  1438.5352783203125\n",
      "    p= 3 , IKOS reps: 52\n",
      "    p= 3 , round 1: 4992.0\n",
      "    p= 3 , round 3: 4992.0\n",
      "    p= 3 , round 5: 1463076.125\n",
      "p= 4 , total proof size:  1490.306884765625\n",
      "    p= 4 , IKOS reps: 41\n",
      "    p= 4 , round 1: 5248.0\n",
      "    p= 4 , round 3: 5248.0\n",
      "    p= 4 , round 5: 1515578.25\n",
      "p= 4 ,reveal 2, total proof size:  2254.7677001953125\n"
     ]
    },
    {
     "data": {
      "image/png": "[encoded data removed]",
      "text/plain": [
       "<Figure size 432x288 with 1 Axes>"
      ]
     },
     "metadata": {
      "needs_background": "light"
     },
     "output_type": "display_data"
    }
   ],
   "source": [
    "# PROOF SIZE VERSUS PARTIES\n",
    "B = 8\n",
    "KiB = 1024*B\n",
    "F = 93\n",
    "sigma = 80+2\n",
    "x = np.array(ps)\n",
    "y = np.array([get_proof_size(HASH_BITS, COMM_RAND, SEED_SIZE, \n",
    "                                          F, sigma, p, p-1, NUM_ASWI) / KiB for p in ps])\n",
    "print(\"Best proof size ((KB), parties, reveal p-1): \",min([(get_proof_size(HASH_BITS, COMM_RAND, SEED_SIZE, \n",
    "                                          F, sigma, p, p-1, NUM_ASWI) / KiB, p) for p in ps]))\n",
    "\n",
    "\n",
    "for p in [2,3,4]:\n",
    "    print(\"p=\",p,\", total proof size: \", get_proof_size(HASH_BITS, COMM_RAND, SEED_SIZE, \n",
    "                                          F, sigma, p, p-1, NUM_ASWI) / KiB) \n",
    "    print(\"    p=\",p,\", IKOS reps:\",get_num_ikos_reps(sigma,p,1))\n",
    "    print(\"    p=\",p,\", round 1:\",get_round1(HASH_BITS, sigma, p, p-1)/B)\n",
    "    print(\"    p=\",p,\", round 3:\",get_round3(HASH_BITS, sigma, p, p-1)/B)\n",
    "    print(\"    p=\",p,\", round 5:\",get_round5(COMM_RAND, SEED_SIZE, F, sigma, p,p-1, NUM_ASWI)/B)\n",
    "print(\"p=\",p,\",reveal 2, total proof size: \", get_proof_size(HASH_BITS, COMM_RAND, SEED_SIZE, \n",
    "                                          F, sigma, p, 2, NUM_ASWI) / KiB)    \n",
    "\n",
    "fig = plt.figure()\n",
    "ax = fig.add_subplot(1, 1, 1)\n",
    "ax.scatter(x, y)\n",
    "plt.title(\"Proof size (KB) versus Parties (reveal p-1, F=93, soundness 80))\")\n",
    "#ax.legend()\n",
    "plt.show()"
   ]
  },
  {
   "cell_type": "markdown",
   "metadata": {},
   "source": [
    "Proof scaling is now... really *weird*, not sure why this is so wiggly."
   ]
  },
  {
   "cell_type": "code",
   "execution_count": 76,
   "metadata": {},
   "outputs": [
    {
     "data": {
      "image/png": "[encoded data removed]",
      "text/plain": [
       "<Figure size 432x288 with 1 Axes>"
      ]
     },
     "metadata": {
      "needs_background": "light"
     },
     "output_type": "display_data"
    }
   ],
   "source": [
    "# PLOT PROOF SIZE VERSUS SWITCHES\n",
    "B = 8\n",
    "KiB = 1024*B\n",
    "\n",
    "sigma = 80+2\n",
    "P = 3\n",
    "x = np.array(naswis)\n",
    "bestF = 0\n",
    "bestFSize = 10000000000\n",
    "BEST_F = 94\n",
    "y = np.array([get_proof_size(HASH_BITS, COMM_RAND, SEED_SIZE, \n",
    "                                          BEST_F, sigma, P, PR, n) / KiB for n in naswis])\n",
    "\n",
    "from statistics import mean    \n",
    "def best_fit_slope(xs,ys):\n",
    "    m = (((mean(xs)*mean(ys)) - mean(xs*ys)) /\n",
    "         ((mean(xs)*mean(xs)) - mean(xs*xs)))\n",
    "    return m\n",
    "def lbf(xs, ys, x):\n",
    "    m = best_fit_slope(xs,ys)\n",
    "    b = mean(ys) - m*mean(xs)\n",
    "    return m*x+b\n",
    "\n",
    "#for i in range(20):\n",
    "#    print(x[i], y[i])\n",
    "    \n",
    "    \n",
    "fig = plt.figure()\n",
    "ax = fig.add_subplot(1, 1, 1)\n",
    "for i in range(len([BEST_F])):\n",
    "    ax.scatter(x, y, label=\"F={}\".format(BEST_F))\n",
    "plt.title(\"Proof size (KB) versus #Switches\")\n",
    "ax.legend()\n",
    "plt.show()"
   ]
  },
  {
   "cell_type": "code",
   "execution_count": null,
   "metadata": {},
   "outputs": [],
   "source": []
  }
 ],
 "metadata": {
  "kernelspec": {
   "display_name": "Python 3",
   "language": "python",
   "name": "python3"
  },
  "language_info": {
   "codemirror_mode": {
    "name": "ipython",
    "version": 3
   },
   "file_extension": ".py",
   "mimetype": "text/x-python",
   "name": "python",
   "nbconvert_exporter": "python",
   "pygments_lexer": "ipython3",
   "version": "3.7.5"
  }
 },
 "nbformat": 4,
 "nbformat_minor": 4
}
